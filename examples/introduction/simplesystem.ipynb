{
 "cells": [
  {
   "cell_type": "code",
   "execution_count": 9,
   "metadata": {
    "collapsed": false
   },
   "outputs": [],
   "source": [
    "%matplotlib inline"
   ]
  },
  {
   "cell_type": "code",
   "execution_count": null,
   "metadata": {
    "collapsed": false,
    "scrolled": false,
    "pycharm": {
     "is_executing": true
    }
   },
   "outputs": [
    {
     "name": "stdout",
     "output_type": "stream",
     "text": [
      "No datapaths provided for .csv, will use defaults  (may break in production, should be fine in sim)\n",
      "No datapaths provided for .csv, will use defaults  (may break in production, should be fine in sim)\n",
      "No datapaths provided for .csv, will use defaults  (may break in production, should be fine in sim)\n",
      "No datapaths provided for .csv, will use defaults  (may break in production, should be fine in sim)\n",
      "No datapaths provided for .csv, will use defaults  (may break in production, should be fine in sim)\n",
      "No datapaths provided for .csv, will use defaults  (may break in production, should be fine in sim)\n",
      "No datapaths provided for .csv, will use defaults  (may break in production, should be fine in sim)\n",
      "No datapaths provided for .csv, will use defaults  (may break in production, should be fine in sim)\n",
      "{'rule0': TradingRule; function: <function ewmac_forecast_with_defaults at 0x137a10488>, data:  and other_args: }\n",
      "{'ewmac': TradingRule; function: <function ewmac_forecast_with_defaults at 0x137a10488>, data:  and other_args: }\n",
      "Adding config defaults\n",
      "System base_system with .config, .data, and .stages: rules\n",
      "Calculating raw forecast EDOLLAR for ewmac\n",
      "index\n",
      "2020-11-17    1.869360\n",
      "2020-11-18    1.848157\n",
      "2020-11-19    1.844952\n",
      "2020-11-20    1.867194\n",
      "2020-11-23    1.843271\n",
      "Freq: B, dtype: float64\n",
      "TradingRule; function: <function ewmac_forecast_with_defaults at 0x137a10488>, data:  and other_args: Lfast, Lslow\n",
      "Adding config defaults\n"
     ]
    }
   ],
   "source": [
    "%run simplesystem.py"
   ]
  },
  {
   "cell_type": "code",
   "execution_count": null,
   "metadata": {
    "collapsed": false,
    "pycharm": {
     "is_executing": true
    }
   },
   "outputs": [],
   "source": [
    "my_account.portfolio().plot()"
   ]
  }
 ],
 "metadata": {
  "kernelspec": {
   "display_name": "Python 3",
   "language": "python",
   "name": "python3"
  },
  "language_info": {
   "codemirror_mode": {
    "name": "ipython",
    "version": 3.0
   },
   "file_extension": ".py",
   "mimetype": "text/x-python",
   "name": "python",
   "nbconvert_exporter": "python",
   "pygments_lexer": "ipython3",
   "version": "3.5.2"
  }
 },
 "nbformat": 4,
 "nbformat_minor": 0
}